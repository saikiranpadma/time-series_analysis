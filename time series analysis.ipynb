{
 "cells": [
  {
   "cell_type": "code",
   "execution_count": null,
   "id": "a0abe2d7",
   "metadata": {},
   "outputs": [],
   "source": [
    "import pandas as pd\n",
    "import numpy as np\n",
    "import matplotlib.pyplot as plt\n",
    "from statsmodels.tsa.seasonal import STL\n",
    "from statsmodels.tsa.arima.model import ARIMA\n",
    "\n",
    "# Load the time series data\n",
    "data = pd.read_csv('time_series_data.csv', parse_dates=['Date'], index_col='Date')\n",
    "\n",
    "# Perform seasonal decomposition of the time series\n",
    "stl = STL(data, seasonal=13)  # Seasonality with a period of 13 (example)\n",
    "res = stl.fit()\n",
    "seasonal, trend, residual = res.seasonal, res.trend, res.resid\n",
    "\n",
    "# Plot the original, seasonal, and trend components\n",
    "plt.figure(figsize=(10, 6))\n",
    "plt.subplot(3, 1, 1)\n",
    "plt.plot(data)\n",
    "plt.title('Original Time Series')\n",
    "plt.subplot(3, 1, 2)\n",
    "plt.plot(seasonal)\n",
    "plt.title('Seasonal Component')\n",
    "plt.subplot(3, 1, 3)\n",
    "plt.plot(trend)\n",
    "plt.title('Trend Component')\n",
    "plt.tight_layout()\n",
    "plt.show()\n",
    "\n",
    "# Fit an ARIMA model to the residual component\n",
    "model = ARIMA(residual, order=(1, 1, 1))  # ARIMA(1, 1, 1) model as an example\n",
    "model_fit = model.fit()\n",
    "\n",
    "# Make predictions based on the ARIMA model\n",
    "predictions = model_fit.predict(start='yyyy-mm-dd', end='yyyy-mm-dd', dynamic=True)\n",
    "\n",
    "# Plot the predicted values against the original residual component\n",
    "plt.figure(figsize=(10, 4))\n",
    "plt.plot(residual, label='Original Residuals')\n",
    "plt.plot(predictions, color='red', label='Predicted Residuals')\n",
    "plt.title('ARIMA Residuals')\n",
    "plt.legend()\n",
    "plt.show()\n"
   ]
  }
 ],
 "metadata": {
  "kernelspec": {
   "display_name": "Python 3 (ipykernel)",
   "language": "python",
   "name": "python3"
  },
  "language_info": {
   "codemirror_mode": {
    "name": "ipython",
    "version": 3
   },
   "file_extension": ".py",
   "mimetype": "text/x-python",
   "name": "python",
   "nbconvert_exporter": "python",
   "pygments_lexer": "ipython3",
   "version": "3.10.9"
  }
 },
 "nbformat": 4,
 "nbformat_minor": 5
}
